{
 "cells": [
  {
   "cell_type": "markdown",
   "metadata": {},
   "source": [
    "# NLP - Norvig spell corrector"
   ]
  },
  {
   "cell_type": "markdown",
   "metadata": {},
   "source": [
    "Norvig spell corrector is an elementary yet powerful spell corrector that finds out all the words one or two or multiple edit distances away from the given word. It finally assigns correct spelling to the word which has the maximum probability of occurence in a given corpus."
   ]
  },
  {
   "cell_type": "code",
   "execution_count": 4,
   "metadata": {},
   "outputs": [],
   "source": [
    "import re\n",
    "from collections import Counter"
   ]
  },
  {
   "cell_type": "code",
   "execution_count": 5,
   "metadata": {},
   "outputs": [],
   "source": [
    "# function to tokenise words\n",
    "def words(document):\n",
    "    \"Convert text to lower case and tokenise the document\"\n",
    "    return re.findall(r'\\w+', document.lower())"
   ]
  },
  {
   "cell_type": "code",
   "execution_count": 6,
   "metadata": {},
   "outputs": [],
   "source": [
    "# create a frequency table of all the words of the document\n",
    "all_words = Counter(words(open('big.txt').read()))"
   ]
  },
  {
   "cell_type": "code",
   "execution_count": 7,
   "metadata": {},
   "outputs": [
    {
     "data": {
      "text/plain": [
       "135"
      ]
     },
     "execution_count": 7,
     "metadata": {},
     "output_type": "execute_result"
    }
   ],
   "source": [
    "# check frequency of a random word, say, 'chair'\n",
    "all_words['chair']"
   ]
  },
  {
   "cell_type": "code",
   "execution_count": 8,
   "metadata": {},
   "outputs": [
    {
     "data": {
      "text/plain": [
       "[('the', 79809),\n",
       " ('of', 40024),\n",
       " ('and', 38312),\n",
       " ('to', 28765),\n",
       " ('in', 22023),\n",
       " ('a', 21124),\n",
       " ('that', 12512),\n",
       " ('he', 12401),\n",
       " ('was', 11410),\n",
       " ('it', 10681)]"
      ]
     },
     "execution_count": 8,
     "metadata": {},
     "output_type": "execute_result"
    }
   ],
   "source": [
    "# look at top 10 frequent words\n",
    "all_words.most_common(10)"
   ]
  },
  {
   "cell_type": "code",
   "execution_count": 9,
   "metadata": {},
   "outputs": [],
   "source": [
    "def edits_one(word):\n",
    "    \"Create all edits that are one edit away from `word`.\"\n",
    "    alphabets    = 'abcdefghijklmnopqrstuvwxyz'\n",
    "    splits     = [(word[:i], word[i:])                   for i in range(len(word) + 1)]\n",
    "    deletes    = [left + right[1:]                       for left, right in splits if right]\n",
    "    inserts    = [left + c + right                       for left, right in splits for c in alphabets]\n",
    "    replaces   = [left + c + right[1:]                   for left, right in splits if right for c in alphabets]\n",
    "    transposes = [left + right[1] + right[0] + right[2:] for left, right in splits if len(right)>1]\n",
    "    return set(deletes + inserts + replaces + transposes)"
   ]
  },
  {
   "cell_type": "code",
   "execution_count": 10,
   "metadata": {},
   "outputs": [],
   "source": [
    "def edits_two(word):\n",
    "    \"Create all edits that are two edits away from `word`.\"\n",
    "    return (e2 for e1 in edits_one(word) for e2 in edits_one(e1))"
   ]
  },
  {
   "cell_type": "code",
   "execution_count": 11,
   "metadata": {},
   "outputs": [],
   "source": [
    "def known(words):\n",
    "    \"The subset of `words` that appear in the `all_words`.\"\n",
    "    return set(word for word in words if word in all_words)"
   ]
  },
  {
   "cell_type": "code",
   "execution_count": 12,
   "metadata": {},
   "outputs": [],
   "source": [
    "def possible_corrections(word):\n",
    "    \"Generate possible spelling corrections for word.\"\n",
    "    return (known([word]) or known(edits_one(word)) or known(edits_two(word)) or [word])"
   ]
  },
  {
   "cell_type": "code",
   "execution_count": 13,
   "metadata": {},
   "outputs": [],
   "source": [
    "def prob(word, N=sum(all_words.values())): \n",
    "    \"Probability of `word`: Number of appearances of 'word' / total number of tokens\"\n",
    "    return all_words[word] / N"
   ]
  },
  {
   "cell_type": "code",
   "execution_count": 14,
   "metadata": {},
   "outputs": [
    {
     "name": "stdout",
     "output_type": "stream",
     "text": [
      "336\n",
      "{'monneyq', 'monneoy', 'mvnney', 'mhonney', 'monnrey', 'omnney', 'monnuey', 'monley', 'mwnney', 'myonney', 'monyey', 'jmonney', 'moniney', 'monnei', 'monnen', 'mronney', 'monneny', 'monxney', 'mnoney', 'mdonney', 'mznney', 'monxey', 'monwey', 'monnecy', 'monned', 'mtonney', 'mozney', 'modney', 'mounney', 'moenney', 'monneya', 'monnez', 'aonney', 'monvey', 'monnmy', 'mouney', 'monnedy', 'monnea', 'mojney', 'mwonney', 'monyney', 'monneyy', 'monneyu', 'fonney', 'eonney', 'mponney', 'monmey', 'mlnney', 'monrney', 'monneyb', 'monnuy', 'monneyc', 'monneym', 'umonney', 'cmonney', 'mhnney', 'monnney', 'monnety', 'monoey', 'kmonney', 'monuney', 'wonney', 'konney', 'mmonney', 'monnpey', 'monnewy', 'vonney', 'mosney', 'moncey', 'emonney', 'monnzey', 'moiney', 'monnej', 'mononey', 'meonney', 'zmonney', 'tmonney', 'monneyn', 'uonney', 'moneey', 'momney', 'mpnney', 'mmnney', 'dmonney', 'monlney', 'montey', 'momnney', 'monntey', 'montney', 'mjnney', 'gmonney', 'monneqy', 'yonney', 'motney', 'movnney', 'monneyp', 'sonney', 'monnemy', 'monpney', 'moxney', 'moniey', 'modnney', 'monncy', 'monne', 'mofnney', 'monnejy', 'monneiy', 'monnmey', 'moaney', 'monnay', 'monneh', 'monnxey', 'monndey', 'monbey', 'monfney', 'manney', 'monneyg', 'moznney', 'monneyz', 'mxonney', 'imonney', 'mofney', 'conney', 'pmonney', 'mondey', 'mojnney', 'monnjy', 'monneyf', 'moyney', 'donney', 'mobnney', 'mknney', 'monnhey', 'monjney', 'lonney', 'monneye', 'monneyr', 'monjey', 'vmonney', 'monnley', 'monneky', 'moanney', 'monrey', 'monhey', 'maonney', 'monnry', 'moncney', 'mohnney', 'rmonney', 'omonney', 'molnney', 'nmonney', 'monneyd', 'monneyv', 'monnoy', 'monzney', 'mlonney', 'monngey', 'mqnney', 'mopney', 'monsey', 'morney', 'hmonney', 'monnsy', 'wmonney', 'monbney', 'monneuy', 'mcnney', 'monwney', 'monngy', 'monsney', 'gonney', 'monnfy', 'monnty', 'monnwy', 'monqney', 'monneey', 'mooney', 'mdnney', 'monnexy', 'mopnney', 'mgnney', 'monnery', 'mjonney', 'monkey', 'moynney', 'monneyj', 'smonney', 'molney', 'monnly', 'monneyk', 'monzey', 'amonney', 'mionney', 'monnpy', 'monfey', 'monnby', 'monnee', 'monnef', 'monneyw', 'qonney', 'mnnney', 'monnex', 'monnyy', 'mownney', 'monnel', 'moqnney', 'mobney', 'moinney', 'monnoey', 'bonney', 'ymonney', 'monnevy', 'monnkey', 'monnqey', 'monnwey', 'monneyo', 'moxnney', 'zonney', 'monhney', 'munney', 'mocnney', 'monnaey', 'moneny', 'monnjey', 'mkonney', 'nonney', 'mynney', 'monnek', 'monnefy', 'monnepy', 'moknney', 'msnney', 'monnev', 'monnxy', 'minney', 'monniey', 'monnesy', 'lmonney', 'movney', 'monneay', 'monneys', 'monney', 'monnec', 'monaey', 'onney', 'monnegy', 'monneyh', 'tonney', 'honney', 'monneyx', 'msonney', 'monnbey', 'monnny', 'monnem', 'monnsey', 'monqey', 'mgonney', 'monneb', 'monnvey', 'moonney', 'mocney', 'mongey', 'mfonney', 'mongney', 'monner', 'mornney', 'monpey', 'monnvy', 'mogney', 'monniy', 'monneby', 'monnqy', 'monkney', 'monnely', 'monndy', 'mxnney', 'mbonney', 'monnfey', 'xonney', 'mowney', 'monnezy', 'monaney', 'xmonney', 'mbnney', 'mosnney', 'monnehy', 'mnonney', 'jonney', 'mognney', 'monmney', 'monnhy', 'monneu', 'moneney', 'mrnney', 'monnyey', 'menney', 'money', 'mzonney', 'monneyl', 'monneyt', 'monnky', 'monnew', 'monnet', 'oonney', 'monnes', 'mtnney', 'mvonney', 'motnney', 'fmonney', 'monnye', 'mfnney', 'monneyi', 'monneo', 'monuey', 'mohney', 'moeney', 'ronney', 'monny', 'mondney', 'ionney', 'monneg', 'mnney', 'qmonney', 'mqonney', 'monvney', 'ponney', 'mconney', 'muonney', 'moqney', 'monnzy', 'mokney', 'monneq', 'monnep', 'bmonney', 'monncey'}\n"
     ]
    }
   ],
   "source": [
    "print(len(set(edits_one(\"monney\"))))\n",
    "print(edits_one(\"monney\"))"
   ]
  },
  {
   "cell_type": "code",
   "execution_count": 15,
   "metadata": {},
   "outputs": [
    {
     "name": "stdout",
     "output_type": "stream",
     "text": [
      "{'money', 'monkey'}\n"
     ]
    }
   ],
   "source": [
    "print(known(edits_one(\"monney\")))"
   ]
  },
  {
   "cell_type": "code",
   "execution_count": 16,
   "metadata": {},
   "outputs": [
    {
     "name": "stdout",
     "output_type": "stream",
     "text": [
      "51013\n",
      "{'money', 'monkey'}\n"
     ]
    }
   ],
   "source": [
    "# Let's look at words that are two edits away\n",
    "print(len(set(edits_two(\"monney\"))))\n",
    "print(known(edits_one(\"monney\")))"
   ]
  },
  {
   "cell_type": "code",
   "execution_count": 17,
   "metadata": {},
   "outputs": [
    {
     "name": "stdout",
     "output_type": "stream",
     "text": [
      "{'money', 'monkey'}\n"
     ]
    }
   ],
   "source": [
    "# Let's look at possible corrections of a word\n",
    "print(possible_corrections(\"monney\"))"
   ]
  },
  {
   "cell_type": "code",
   "execution_count": 18,
   "metadata": {},
   "outputs": [
    {
     "name": "stdout",
     "output_type": "stream",
     "text": [
      "0.0002922233626303688\n",
      "5.378344097491451e-06\n"
     ]
    }
   ],
   "source": [
    "# Let's look at probability of a word\n",
    "print(prob(\"money\"))\n",
    "print(prob(\"monkey\"))"
   ]
  },
  {
   "cell_type": "code",
   "execution_count": 19,
   "metadata": {},
   "outputs": [],
   "source": [
    "def spell_check(word):\n",
    "    \"Print the most probable spelling correction for `word` out of all the `possible_corrections`\"\n",
    "    correct_word = max(possible_corrections(word), key=prob)\n",
    "    if correct_word != word:\n",
    "        return \"Did you mean \" + correct_word + \"?\"\n",
    "    else:\n",
    "        return \"Correct spelling.\""
   ]
  },
  {
   "cell_type": "code",
   "execution_count": 20,
   "metadata": {},
   "outputs": [
    {
     "name": "stdout",
     "output_type": "stream",
     "text": [
      "Did you mean money?\n"
     ]
    }
   ],
   "source": [
    "# test spell check\n",
    "print(spell_check(\"monney\"))"
   ]
  }
 ],
 "metadata": {
  "kernelspec": {
   "display_name": "Python 3",
   "language": "python",
   "name": "python3"
  },
  "language_info": {
   "codemirror_mode": {
    "name": "ipython",
    "version": 3
   },
   "file_extension": ".py",
   "mimetype": "text/x-python",
   "name": "python",
   "nbconvert_exporter": "python",
   "pygments_lexer": "ipython3",
   "version": "3.7.1"
  }
 },
 "nbformat": 4,
 "nbformat_minor": 2
}
